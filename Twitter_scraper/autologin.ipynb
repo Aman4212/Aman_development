{
 "cells": [
  {
   "cell_type": "code",
   "execution_count": 17,
   "metadata": {},
   "outputs": [],
   "source": [
    "from selenium import webdriver\n",
    "from selenium.webdriver.chrome.service import Service\n",
    "from selenium.webdriver.chrome.options import Options\n",
    "from selenium.webdriver.common.by import By\n",
    "from selenium.webdriver.support.ui import WebDriverWait\n",
    "from selenium.webdriver.support import expected_conditions as EC\n",
    "from bs4 import BeautifulSoup\n",
    "import time\n",
    "import os"
   ]
  },
  {
   "cell_type": "code",
   "execution_count": 18,
   "metadata": {},
   "outputs": [],
   "source": [
    "# Set up the headless browser\n",
    "options = Options()\n",
    "options.add_argument('--headless')  # Run browser in headless mode\n",
    "options.add_argument('--no-sandbox')  # Bypass OS security model\n",
    "options.add_argument('--disable-dev-shm-usage')  # Overcome limited resource problems\n",
    "\n",
    "\n",
    "PATH = r\"C:\\Users\\amank\\OneDrive\\Desktop\\kiesquare\\chromedriver.exe\"\n",
    "\n",
    "\n",
    "# Initialize the Chrome driver correctly using the Service object\n",
    "service = Service(PATH)\n",
    "driver = webdriver.Chrome(service=service, options=options)"
   ]
  },
  {
   "cell_type": "code",
   "execution_count": 19,
   "metadata": {},
   "outputs": [
    {
     "name": "stdout",
     "output_type": "stream",
     "text": [
      "ChromeDriver found at: C:\\Users\\amank\\OneDrive\\Desktop\\kiesquare\\chromedriver.exe\n"
     ]
    }
   ],
   "source": [
    "PATH = r\"C:\\Users\\amank\\OneDrive\\Desktop\\kiesquare\\chromedriver.exe\"\n",
    "\n",
    "# Check if the ChromeDriver exists at the specified path\n",
    "if os.path.exists(PATH):\n",
    "    print(f\"ChromeDriver found at: {PATH}\")\n",
    "else:\n",
    "    print(f\"ChromeDriver not found at: {PATH}. Please check the path.\")"
   ]
  },
  {
   "cell_type": "code",
   "execution_count": 20,
   "metadata": {},
   "outputs": [],
   "source": [
    "USERNAME = '@AmnKumr2'\n",
    "PASSWORD = 'Aman@2274'\n",
    "keyword = 'Nike'"
   ]
  },
  {
   "cell_type": "markdown",
   "metadata": {},
   "source": [
    "ACCESSING THE WEBSITE AND FINDING THE USER"
   ]
  },
  {
   "cell_type": "code",
   "execution_count": 21,
   "metadata": {},
   "outputs": [
    {
     "name": "stdout",
     "output_type": "stream",
     "text": [
      "Username entered\n",
      "Next Button Clicked\n",
      "Password Entered\n",
      "Logged in successfully\n",
      "Search query entered\n",
      "People button clicked\n",
      "First link clicked\n"
     ]
    }
   ],
   "source": [
    "\n",
    "\n",
    "# # Set up the Chrome options\n",
    "# options = Options()\n",
    "\n",
    "# options.add_argument('--no-sandbox')\n",
    "# options.add_argument('--disable-dev-shm-usage')\n",
    "\n",
    "# # Initialize the Chrome driver using the Service object\n",
    "# service = Service(PATH)\n",
    "# driver = webdriver.Chrome(service=service, options=options)\n",
    "\n",
    "options = Options()\n",
    "options.add_argument('--no-sandbox')  # Bypass OS security model, required for Docker\n",
    "options.add_argument('--disable-dev-shm-usage')  # Overcome limited resource problems\n",
    "options.add_argument('--disable-gpu')  # Applicable to windows os only\n",
    "# options.add_argument('--headless')  # Run in headless mode, remove if you need a GUI\n",
    "options.add_argument('--window-size=1920x1080')  # Set window size, important if in headless\n",
    "\n",
    "service = Service(PATH)\n",
    "driver = webdriver.Chrome(service=service, options=options)\n",
    "\n",
    "# Open Twitter login page\n",
    "driver.get('https://twitter.com/login')\n",
    "\n",
    "# Wait for the username field to be available and enter the username\n",
    "username = WebDriverWait(driver, 10).until(\n",
    "    EC.presence_of_element_located((By.XPATH, \"//input[@name='text']\"))\n",
    ")\n",
    "username.send_keys(USERNAME)\n",
    "print(\"Username entered\")\n",
    "\n",
    "# Locate the next button using XPath and click it\n",
    "next_button = WebDriverWait(driver, 10).until(\n",
    "    EC.element_to_be_clickable((By.XPATH, \"//span[text()='Next']\"))\n",
    ")\n",
    "next_button.click()\n",
    "print(\"Next Button Clicked\")\n",
    "\n",
    "# Wait for the password field to be available and enter the password\n",
    "password = WebDriverWait(driver, 10).until(\n",
    "    EC.presence_of_element_located((By.XPATH, \"//input[@name='password']\"))\n",
    ")\n",
    "password.send_keys(PASSWORD)\n",
    "print(\"Password Entered\")\n",
    "\n",
    "# Locate the Login button using XPath and click it\n",
    "login_button = WebDriverWait(driver, 10).until(\n",
    "    EC.element_to_be_clickable((By.XPATH, \"//span[text()='Log in']\"))\n",
    ")\n",
    "login_button.click()\n",
    "print(\"Logged in successfully\")\n",
    "\n",
    "# Wait for the search box to be available and enter the search query\n",
    "search_box = WebDriverWait(driver, 10).until(\n",
    "    EC.presence_of_element_located((By.XPATH, \"//input[@data-testid='SearchBox_Search_Input']\"))\n",
    ")\n",
    "search_box.send_keys(keyword)\n",
    "search_box.send_keys(u'\\ue007')  # Press Enter\n",
    "print(\"Search query entered\")\n",
    "\n",
    "# Wait for the People button to be available and click it\n",
    "people_button = WebDriverWait(driver, 10).until(\n",
    "    EC.element_to_be_clickable((By.XPATH, \"//span[text()='People']\"))\n",
    ")\n",
    "people_button.click()\n",
    "print(\"People button clicked\")\n",
    "\n",
    "# Wait for the first link to be available and click it\n",
    "first_link = WebDriverWait(driver, 10).until(\n",
    "    EC.element_to_be_clickable((By.XPATH, '//*[@id=\"react-root\"]/div/div/div[2]/main/div/div/div/div[1]/div/div[3]/section/div/div/div[1]/div/div/button/div/div[2]/div[1]/div[1]/div/div[1]/a/div/div[1]/span/span[1]'))\n",
    ")\n",
    "first_link.click()\n",
    "print(\"First link clicked\")\n",
    "\n",
    "\n",
    "\n",
    "\n"
   ]
  },
  {
   "cell_type": "markdown",
   "metadata": {},
   "source": [
    "SCRAPING BEGIINS HERE"
   ]
  },
  {
   "cell_type": "code",
   "execution_count": 22,
   "metadata": {},
   "outputs": [
    {
     "name": "stdout",
     "output_type": "stream",
     "text": [
      "Username is:  Nike\n"
     ]
    }
   ],
   "source": [
    "# Wait for the user tag element to be available and extract the username\n",
    "user_tag = WebDriverWait(driver, 10).until(\n",
    "    EC.presence_of_element_located((By.XPATH, \"//div[@data-testid='UserName']//span\"))\n",
    ").text\n",
    "print(\"Username is: \", user_tag)"
   ]
  },
  {
   "cell_type": "code",
   "execution_count": 23,
   "metadata": {},
   "outputs": [],
   "source": [
    "# from ntscraper import Nitter\n",
    "\n",
    "# scraper = Nitter(log_level=1,skip_instance_check=False)\n",
    "\n",
    "# tweets = scraper.get_tweets(\"mamaearthindia\",mode=\"user\",number=10)\n",
    "\n",
    "# print(tweets)\n",
    "\n",
    "# from pprint import pprint\n",
    "\n",
    "# pprint(tweets)"
   ]
  },
  {
   "cell_type": "code",
   "execution_count": 29,
   "metadata": {},
   "outputs": [
    {
     "name": "stdout",
     "output_type": "stream",
     "text": [
      "--------------------------\n",
      "Watch Where We’re Going \n",
      "\n",
      "It's not where you're from that defines you, it's what you do. Supporting a team that defines true resilience, the Refugee Olympic Team.\n",
      "--------------------------\n",
      "We always keep an Ace up our sleeve\n"
     ]
    }
   ],
   "source": [
    "#Extracting tweets\n",
    "# Find all tweets on the page\n",
    "tweets = driver.find_elements(By.XPATH, '//div[@data-testid=\"tweetText\"]')\n",
    "\n",
    "# Extract and print the text of each tweet\n",
    "for tweet in tweets:\n",
    "    print(\"--------------------------\")\n",
    "    print(tweet.text.strip())\n",
    "\n"
   ]
  },
  {
   "cell_type": "code",
   "execution_count": 25,
   "metadata": {},
   "outputs": [
    {
     "data": {
      "text/plain": [
       "0"
      ]
     },
     "execution_count": 25,
     "metadata": {},
     "output_type": "execute_result"
    }
   ],
   "source": [
    "len(tweets)"
   ]
  },
  {
   "cell_type": "code",
   "execution_count": 30,
   "metadata": {},
   "outputs": [
    {
     "name": "stdout",
     "output_type": "stream",
     "text": [
      "--------------------------\n",
      "Tweet: Watch Where We’re Going \n",
      "\n",
      "It's not where you're from that defines you, it's what you do. Supporting a team that defines true resilience, the Refugee Olympic Team.\n",
      "Repost count: 88\n",
      "Likes count: 317\n",
      "Reply count: 129\n",
      "--------------------------\n",
      "Tweet: We always keep an Ace up our sleeve\n",
      "Repost count: 474\n",
      "Likes count: 2.8K\n",
      "Reply count: 100\n"
     ]
    }
   ],
   "source": [
    "# Find all tweets on the page\n",
    "tweets = driver.find_elements(By.XPATH, '//div[@data-testid=\"tweetText\"]')\n",
    "# Find all retweet buttons on the page\n",
    "retweet_buttons = driver.find_elements(By.XPATH, '//button[@data-testid=\"retweet\"]')\n",
    "# Find all like buttons on the page\n",
    "like_buttons = driver.find_elements(By.XPATH, '//button[@data-testid=\"like\"]')\n",
    "# Find all reply buttons on the page\n",
    "reply_buttons = driver.find_elements(By.XPATH, '//button[@data-testid=\"reply\"]')\n",
    "\n",
    "\n",
    "# Check that the number of tweets matches the number of retweet and like buttons\n",
    "if len(tweets) == len(retweet_buttons) == len(like_buttons)==len(reply_buttons):\n",
    "    for tweet, retweet_button, like_button,reply_button in zip(tweets, retweet_buttons, like_buttons,reply_buttons):\n",
    "        # Extract and print the text of each tweet\n",
    "        tweet_text = tweet.text.strip()\n",
    "        # Extract the repost count from the retweet button\n",
    "        repost_count = retweet_button.find_element(By.XPATH, './/span[contains(@class, \"css-1jxf684\")]').text\n",
    "        # Extract the like count from the like button\n",
    "        like_count = like_button.find_element(By.XPATH, './/span[contains(@class, \"css-1jxf684\")]').text\n",
    "         # Extract the like count from the like button\n",
    "        reply_count = reply_button.find_element(By.XPATH, './/span[contains(@class, \"css-1jxf684\")]').text\n",
    "        \n",
    "        print(\"--------------------------\")\n",
    "        print(f\"Tweet: {tweet_text}\")\n",
    "        print(\"Repost count:\", repost_count)\n",
    "        print(\"Likes count:\", like_count)\n",
    "        print(\"Reply count:\", reply_count)\n",
    "else:\n",
    "    print(\"Mismatch between the number of tweets and retweet/like buttons\")\n"
   ]
  },
  {
   "cell_type": "code",
   "execution_count": null,
   "metadata": {},
   "outputs": [],
   "source": []
  },
  {
   "cell_type": "code",
   "execution_count": 27,
   "metadata": {},
   "outputs": [],
   "source": [
    "\n",
    "soup = BeautifulSoup(driver.page_source, 'html.parser')\n",
    "\n",
    "with open('twitter_page.html', 'w', encoding='utf-8') as file:\n",
    "    file.write(driver.page_source)"
   ]
  },
  {
   "cell_type": "code",
   "execution_count": 28,
   "metadata": {},
   "outputs": [],
   "source": [
    "# driver.quit()"
   ]
  },
  {
   "cell_type": "code",
   "execution_count": null,
   "metadata": {},
   "outputs": [],
   "source": []
  }
 ],
 "metadata": {
  "kernelspec": {
   "display_name": "Python 3",
   "language": "python",
   "name": "python3"
  },
  "language_info": {
   "codemirror_mode": {
    "name": "ipython",
    "version": 3
   },
   "file_extension": ".py",
   "mimetype": "text/x-python",
   "name": "python",
   "nbconvert_exporter": "python",
   "pygments_lexer": "ipython3",
   "version": "3.12.1"
  }
 },
 "nbformat": 4,
 "nbformat_minor": 2
}
